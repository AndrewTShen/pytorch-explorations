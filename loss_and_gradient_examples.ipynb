{
  "nbformat": 4,
  "nbformat_minor": 0,
  "metadata": {
    "colab": {
      "name": "loss and gradient examples.ipynb",
      "version": "0.3.2",
      "provenance": [],
      "collapsed_sections": [
        "inol76xq5E16",
        "WRaMt_IeF8AO"
      ],
      "include_colab_link": true
    },
    "kernelspec": {
      "name": "python3",
      "display_name": "Python 3"
    },
    "accelerator": "GPU"
  },
  "cells": [
    {
      "cell_type": "markdown",
      "metadata": {
        "id": "view-in-github",
        "colab_type": "text"
      },
      "source": [
        "<a href=\"https://colab.research.google.com/github/AndrewTShen/pytorch-explorations/blob/master/loss_and_gradient_examples.ipynb\" target=\"_parent\"><img src=\"https://colab.research.google.com/assets/colab-badge.svg\" alt=\"Open In Colab\"/></a>"
      ]
    },
    {
      "cell_type": "markdown",
      "metadata": {
        "id": "to7NYvIAw0NG",
        "colab_type": "text"
      },
      "source": [
        "# Loss and Gradient Examples\n",
        "\n",
        "## Introduction\n",
        "This notebook contains two examples that demonstrate how loss and gradient functions work in PyTorch. \n",
        "\n",
        "## Table of Contents\n",
        "[1.](#example-1-parabola-minimum) In the first, we write a simple loss function and try to minimize a parabola.\n",
        "\n",
        "[2.](#example-2-shortest-path-problem) In the second, we initialize N points and try to find the shortest path from (0, 0) to (100, 100). This uses slightly more complex function, but in terms of training is roughly the same."
      ]
    },
    {
      "cell_type": "code",
      "metadata": {
        "id": "pIq6H1lb1XZ6",
        "colab_type": "code",
        "outputId": "9d9a2a0c-87a3-43d8-b5a8-2ab02f962b3f",
        "colab": {
          "base_uri": "https://localhost:8080/",
          "height": 218
        }
      },
      "source": [
        "!pip3 install http://download.pytorch.org/whl/cu80/torch-0.3.0.post4-cp36-cp36m-linux_x86_64.whl "
      ],
      "execution_count": 1,
      "outputs": [
        {
          "output_type": "stream",
          "text": [
            "Collecting torch==0.3.0.post4 from http://download.pytorch.org/whl/cu80/torch-0.3.0.post4-cp36-cp36m-linux_x86_64.whl\n",
            "\u001b[?25l  Downloading http://download.pytorch.org/whl/cu80/torch-0.3.0.post4-cp36-cp36m-linux_x86_64.whl (592.3MB)\n",
            "\u001b[K     |████████████████████████████████| 592.3MB 1.1MB/s \n",
            "\u001b[?25hRequirement already satisfied: pyyaml in /usr/local/lib/python3.6/dist-packages (from torch==0.3.0.post4) (3.13)\n",
            "Requirement already satisfied: numpy in /usr/local/lib/python3.6/dist-packages (from torch==0.3.0.post4) (1.16.4)\n",
            "\u001b[31mERROR: torchvision 0.3.0 has requirement torch>=1.1.0, but you'll have torch 0.3.0.post4 which is incompatible.\u001b[0m\n",
            "\u001b[31mERROR: fastai 1.0.54 has requirement torch>=1.0.0, but you'll have torch 0.3.0.post4 which is incompatible.\u001b[0m\n",
            "Installing collected packages: torch\n",
            "  Found existing installation: torch 1.1.0\n",
            "    Uninstalling torch-1.1.0:\n",
            "      Successfully uninstalled torch-1.1.0\n",
            "Successfully installed torch-0.3.0.post4\n"
          ],
          "name": "stdout"
        }
      ]
    },
    {
      "cell_type": "code",
      "metadata": {
        "id": "WTLO35ab4CXR",
        "colab_type": "code",
        "outputId": "b01b6924-c458-454d-e8a4-23f8eb885b16",
        "colab": {
          "base_uri": "https://localhost:8080/",
          "height": 238
        }
      },
      "source": [
        "!pip3 install torchvision"
      ],
      "execution_count": 2,
      "outputs": [
        {
          "output_type": "stream",
          "text": [
            "Requirement already satisfied: torchvision in /usr/local/lib/python3.6/dist-packages (0.3.0)\n",
            "Requirement already satisfied: pillow>=4.1.1 in /usr/local/lib/python3.6/dist-packages (from torchvision) (4.3.0)\n",
            "Requirement already satisfied: six in /usr/local/lib/python3.6/dist-packages (from torchvision) (1.12.0)\n",
            "Requirement already satisfied: numpy in /usr/local/lib/python3.6/dist-packages (from torchvision) (1.16.4)\n",
            "Collecting torch>=1.1.0 (from torchvision)\n",
            "  Using cached https://files.pythonhosted.org/packages/69/60/f685fb2cfb3088736bafbc9bdbb455327bdc8906b606da9c9a81bae1c81e/torch-1.1.0-cp36-cp36m-manylinux1_x86_64.whl\n",
            "Requirement already satisfied: olefile in /usr/local/lib/python3.6/dist-packages (from pillow>=4.1.1->torchvision) (0.46)\n",
            "Installing collected packages: torch\n",
            "  Found existing installation: torch 0.3.0.post4\n",
            "    Uninstalling torch-0.3.0.post4:\n",
            "      Successfully uninstalled torch-0.3.0.post4\n",
            "Successfully installed torch-1.1.0\n"
          ],
          "name": "stdout"
        }
      ]
    },
    {
      "cell_type": "code",
      "metadata": {
        "id": "PH5l6YaVhgYg",
        "colab_type": "code",
        "colab": {}
      },
      "source": [
        "use_cuda = True # If cuda is unavaliable, comment out."
      ],
      "execution_count": 0,
      "outputs": []
    },
    {
      "cell_type": "markdown",
      "metadata": {
        "id": "mMM2k85SyCPt",
        "colab_type": "text"
      },
      "source": [
        "<a id='example1'></a>"
      ]
    },
    {
      "cell_type": "markdown",
      "metadata": {
        "id": "AEcELOua4OOJ",
        "colab_type": "text"
      },
      "source": [
        "## Example 1 Parabola Minimum\n",
        "In this section, we use pytorch to perform gradient descent on a parabola function (defined by squared) in order to find the minimum point on the parabola"
      ]
    },
    {
      "cell_type": "markdown",
      "metadata": {
        "id": "inol76xq5E16",
        "colab_type": "text"
      },
      "source": [
        "##### Imports"
      ]
    },
    {
      "cell_type": "code",
      "metadata": {
        "id": "rCx7Q_D94L2x",
        "colab_type": "code",
        "colab": {}
      },
      "source": [
        "import torch\n",
        "import torch.nn as nn\n",
        "import torch.optim as optim\n",
        "\n",
        "import matplotlib.pyplot as plt\n",
        "import matplotlib.pyplot as plt\n",
        "from mpl_toolkits.mplot3d import Axes3D"
      ],
      "execution_count": 0,
      "outputs": []
    },
    {
      "cell_type": "markdown",
      "metadata": {
        "id": "HLxq5gnc5nfZ",
        "colab_type": "text"
      },
      "source": [
        "##### Code"
      ]
    },
    {
      "cell_type": "code",
      "metadata": {
        "id": "DU-KMhw75oT-",
        "colab_type": "code",
        "colab": {}
      },
      "source": [
        "# Our parabola function\n",
        "def squared(x):\n",
        "  return torch.pow(x, 2)"
      ],
      "execution_count": 0,
      "outputs": []
    },
    {
      "cell_type": "code",
      "metadata": {
        "id": "xtrQEhF458Kx",
        "colab_type": "code",
        "outputId": "ace72bac-96fb-42ea-ade2-80ab2994ccea",
        "colab": {
          "base_uri": "https://localhost:8080/",
          "height": 600
        }
      },
      "source": [
        "# generate starting point\n",
        "x = (200) * torch.rand(1) + 100\n",
        "x.requires_grad_()\n",
        "\n",
        "start = x.data[0].item()\n",
        "\n",
        "# create Adam optimizer\n",
        "optimizer = optim.Adam([x], lr=0.1)\n",
        "\n",
        "# for use in graph\n",
        "data = []\n",
        "data_loss = []\n",
        "\n",
        "# training\n",
        "for i in range(10000):\n",
        "  loss = squared(x)\n",
        "  data_loss.append(loss)\n",
        "  loss.backward()\n",
        "  optimizer.step()    # Does the update\n",
        "  optimizer.zero_grad()\n",
        "  data.append(x.data[0].item())\n",
        "\n",
        "final = x.data[0].item()\n",
        "\n",
        "print(\"Start x: \", start)\n",
        "print(\"Final x: \", final)\n",
        "\n",
        "# Plot all data\n",
        "plt.figure(1)\n",
        "plt.plot(data)\n",
        "plt.xlabel(\"Iteration\")\n",
        "plt.ylabel(\"X\")\n",
        "\n",
        "plt.figure(2)\n",
        "plt.plot(data_loss)\n",
        "plt.xlabel(\"Iteration\")\n",
        "plt.ylabel(\"Loss\")"
      ],
      "execution_count": 6,
      "outputs": [
        {
          "output_type": "stream",
          "text": [
            "Start x:  235.05703735351562\n",
            "Final x:  3.923635700109488e-44\n"
          ],
          "name": "stdout"
        },
        {
          "output_type": "execute_result",
          "data": {
            "text/plain": [
              "Text(0, 0.5, 'Loss')"
            ]
          },
          "metadata": {
            "tags": []
          },
          "execution_count": 6
        },
        {
          "output_type": "display_data",
          "data": {
            "image/png": "[encoded data removed]",
            "text/plain": [
              "<Figure size 432x288 with 1 Axes>"
            ]
          },
          "metadata": {
            "tags": []
          }
        },
        {
          "output_type": "display_data",
          "data": {
            "image/png": "[encoded data removed]",
            "text/plain": [
              "<Figure size 432x288 with 1 Axes>"
            ]
          },
          "metadata": {
            "tags": []
          }
        }
      ]
    },
    {
      "cell_type": "code",
      "metadata": {
        "colab_type": "code",
        "id": "uDylFfxx6u9G",
        "colab": {}
      },
      "source": [
        ""
      ],
      "execution_count": 0,
      "outputs": []
    },
    {
      "cell_type": "markdown",
      "metadata": {
        "colab_type": "text",
        "id": "hGvORKAdzor7"
      },
      "source": [
        "## Example 2 Shortest Path Problem\n",
        "In this section, we use pytorch to find a N intermediate points between a start and final point which is along the shortest path from the start and final point. We will use the points (0, 0) and (100, 100) as our starting and final points respective for simplicity."
      ]
    },
    {
      "cell_type": "markdown",
      "metadata": {
        "id": "WRaMt_IeF8AO",
        "colab_type": "text"
      },
      "source": [
        "##### Imports"
      ]
    },
    {
      "cell_type": "code",
      "metadata": {
        "id": "YZT-SJY2FD2n",
        "colab_type": "code",
        "colab": {}
      },
      "source": [
        "import torch\n",
        "import torch.nn as nn\n",
        "import torch.optim as optim\n",
        "\n",
        "import numpy as np\n",
        "import matplotlib.pyplot as plt"
      ],
      "execution_count": 0,
      "outputs": []
    },
    {
      "cell_type": "markdown",
      "metadata": {
        "id": "pznLihdAF_CU",
        "colab_type": "text"
      },
      "source": [
        "##### Code"
      ]
    },
    {
      "cell_type": "code",
      "metadata": {
        "id": "mVTuyZHuH5Zn",
        "colab_type": "code",
        "colab": {}
      },
      "source": [
        "# Loss Function\n",
        "def Loss_length(inp):\n",
        "  path = torch.cat( (torch.tensor([[0.,0.]]), inp, torch.tensor([[100., 100.]])), 0)  \n",
        "  # inp is a tensor of size (n, 2)\n",
        "  return torch.stack([torch.dist(path[i+1], path[i]) for i in range(path.shape[0]-1)]).sum(dim=0)"
      ],
      "execution_count": 0,
      "outputs": []
    },
    {
      "cell_type": "code",
      "metadata": {
        "id": "pZbH_tppGPQz",
        "colab_type": "code",
        "outputId": "95b7f70d-2746-4ebd-f8c5-092fbc958bb9",
        "colab": {
          "base_uri": "https://localhost:8080/",
          "height": 1000
        }
      },
      "source": [
        "# generate starting points\n",
        "x = (100) * torch.randn(5, 2) - 50\n",
        "x.requires_grad_()\n",
        "\n",
        "# set number of iteration\n",
        "num_iterations = 100000\n",
        "\n",
        "start = x.data.numpy().copy()\n",
        "\n",
        "#b create Adam optimizer\n",
        "optimizer = optim.Adam([x], lr=0.1)\n",
        "\n",
        "# for use in graph\n",
        "data = []\n",
        "data_loss = []\n",
        "\n",
        "# training\n",
        "for i in range(num_iterations):\n",
        "  loss = Loss_length(x)\n",
        "  data_loss.append(loss)\n",
        "  loss.backward()\n",
        "  optimizer.step()\n",
        "  optimizer.zero_grad()\n",
        "  data.append(x.data.numpy().copy())\n",
        "\n",
        "final = x.data.numpy().copy()\n",
        "\n",
        "# Print starting points and ending points.\n",
        "print(\"Start x: \", start)\n",
        "print(\"Final x: \", final)\n",
        "\n",
        "data = np.array(data)\n",
        "\n",
        "# Plot all data\n",
        "\n",
        "# Figure 0: Demonstrate convergence to linear\n",
        "plt.title(\"Demonstrate Convergence to Linear\")\n",
        "plt.figure(0)\n",
        "plt.scatter(final[:,0], final[:,1])\n",
        "\n",
        "# Show change over time\n",
        "plt.title(\"Change over Time\")\n",
        "fig = plt.figure(1)\n",
        "ax = fig.add_subplot(111, projection='3d')\n",
        "for i in range(5):\n",
        "  ax.scatter(np.arange(num_iterations), data[:, i, 0], data[:, i, 1])\n",
        "\n",
        "# Loss over time\n",
        "plt.title(\"Loss over Time\")\n",
        "plt.figure(2)\n",
        "plt.plot(data_loss)\n",
        "plt.xlabel(\"Iteration\")\n",
        "plt.ylabel(\"Loss\")\n",
        "plt.plot()"
      ],
      "execution_count": 9,
      "outputs": [
        {
          "output_type": "stream",
          "text": [
            "Start x:  [[ -44.28952  -23.62967]\n",
            " [-186.40063 -227.60303]\n",
            " [-127.51749   74.88043]\n",
            " [ 208.66846 -137.96436]\n",
            " [-339.33      76.24959]]\n",
            "Final x:  [[ 0.8761181  0.8761205]\n",
            " [ 2.6869917  2.6869893]\n",
            " [ 4.7044725  4.704474 ]\n",
            " [ 7.2275505  7.227549 ]\n",
            " [11.3248205 11.32482  ]]\n"
          ],
          "name": "stdout"
        },
        {
          "output_type": "stream",
          "text": [
            "/usr/local/lib/python3.6/dist-packages/matplotlib/figure.py:98: MatplotlibDeprecationWarning: \n",
            "Adding an axes using the same arguments as a previous axes currently reuses the earlier instance.  In a future version, a new instance will always be created and returned.  Meanwhile, this warning can be suppressed, and the future behavior ensured, by passing a unique label to each axes instance.\n",
            "  \"Adding an axes using the same arguments as a previous axes \"\n"
          ],
          "name": "stderr"
        },
        {
          "output_type": "execute_result",
          "data": {
            "text/plain": [
              "[]"
            ]
          },
          "metadata": {
            "tags": []
          },
          "execution_count": 9
        },
        {
          "output_type": "display_data",
          "data": {
            "image/png": "[encoded data removed]",
            "text/plain": [
              "<Figure size 432x288 with 1 Axes>"
            ]
          },
          "metadata": {
            "tags": []
          }
        },
        {
          "output_type": "display_data",
          "data": {
            "image/png": "[encoded data removed]",
            "text/plain": [
              "<Figure size 432x288 with 1 Axes>"
            ]
          },
          "metadata": {
            "tags": []
          }
        },
        {
          "output_type": "display_data",
          "data": {
            "image/png": "[encoded data removed]",
            "text/plain": [
              "<Figure size 432x288 with 1 Axes>"
            ]
          },
          "metadata": {
            "tags": []
          }
        }
      ]
    }
  ]
}